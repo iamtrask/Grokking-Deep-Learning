{
 "cells": [
  {
   "cell_type": "markdown",
   "metadata": {},
   "source": [
    "Gradient Descent Learning with Multiple Outputs"
   ]
  },
  {
   "cell_type": "code",
   "execution_count": 6,
   "metadata": {},
   "outputs": [],
   "source": [
    "weights = [0.3, 0.2, 0.9]\n",
    "\n",
    "def neural_network(input, weights):\n",
    "    \n",
    "    pred = ele_mul(input,weights) \n",
    "    \n",
    "    return pred\n",
    "\n",
    "def ele_mul(number, vector):\n",
    "    output = [0,0,0]\n",
    "        \n",
    "    assert(len(output) == len(vector))\n",
    "\n",
    "    for i in range(len(vector)): \n",
    "        output[i] = number * vector[i]\n",
    "    return output"
   ]
  },
  {
   "cell_type": "code",
   "execution_count": 7,
   "metadata": {},
   "outputs": [
    {
     "name": "stdout",
     "output_type": "stream",
     "text": [
      "[0.27299999999999996, 0.182, 0.819]\n"
     ]
    }
   ],
   "source": [
    "wlrec = [0.9, 1.0, 1.0, 0.9]\n",
    "hurt = [0.1, 0.0, 0.0, 0.1] \n",
    "win =[1,1,0,1] \n",
    "sad = [0.1, 0.0, 0.1, 0.2]\n",
    "\n",
    "input = wlrec[0]\n",
    "true = [hurt[0], win[0], sad[0]]\n",
    "\n",
    "pred = neural_network(input, weights)\n",
    "\n",
    "error = [0, 0, 0]\n",
    "delta = [0, 0, 0]\n",
    "\n",
    "for i in range(len(true)):\n",
    "    error[i] = (pred[i] - true[i]) ** 2 \n",
    "    delta = pred[i] - true[i]\n",
    "\n",
    "weight_deltas = ele_mul(input,weights)\n",
    "\n",
    "alpha = 0.1\n",
    "\n",
    "for i in range(len(weights)):\n",
    "    weights[i] -= (weight_deltas[i] * alpha)\n",
    "    \n",
    "    \n",
    "print(weights)"
   ]
  }
 ],
 "metadata": {
  "kernelspec": {
   "display_name": "Python 3",
   "language": "python",
   "name": "python3"
  },
  "language_info": {
   "codemirror_mode": {
    "name": "ipython",
    "version": 3
   },
   "file_extension": ".py",
   "mimetype": "text/x-python",
   "name": "python",
   "nbconvert_exporter": "python",
   "pygments_lexer": "ipython3",
   "version": "3.6.3"
  }
 },
 "nbformat": 4,
 "nbformat_minor": 2
}
