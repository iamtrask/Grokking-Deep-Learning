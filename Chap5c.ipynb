{
 "cells": [
  {
   "cell_type": "markdown",
   "metadata": {},
   "source": [
    "Let's Watch Several Steps of Learning"
   ]
  },
  {
   "cell_type": "code",
   "execution_count": 1,
   "metadata": {},
   "outputs": [],
   "source": [
    "def neural_network(input, weights):\n",
    "    out = 0\n",
    "\n",
    "    for i in range(len(input)):\n",
    "        out += (input[i] * weights[i])\n",
    "    \n",
    "    return out"
   ]
  },
  {
   "cell_type": "code",
   "execution_count": 2,
   "metadata": {},
   "outputs": [],
   "source": [
    "def ele_mul(scalar, vector): \n",
    "    out = [0,0,0]\n",
    "\n",
    "    for i in range(len(out)):\n",
    "        out[i] = vector[i] * scalar \n",
    "    return out"
   ]
  },
  {
   "cell_type": "code",
   "execution_count": 3,
   "metadata": {},
   "outputs": [],
   "source": [
    "toes = [8.5, 9.5, 9.9, 9.0] \n",
    "wlrec = [0.65, 0.8, 0.8, 0.9] \n",
    "nfans = [1.2, 1.3, 0.5, 1.0]\n",
    "\n",
    "win_or_lose_binary = [1, 1, 0, 1] \n",
    "true = win_or_lose_binary[0]\n",
    "\n",
    "alpha = 0.01\n",
    "weights = [0.1, 0.2, -.1]\n",
    "input = [toes[0],wlrec[0],nfans[0]]"
   ]
  },
  {
   "cell_type": "code",
   "execution_count": 4,
   "metadata": {
    "scrolled": true
   },
   "outputs": [
    {
     "name": "stdout",
     "output_type": "stream",
     "text": [
      "Iteration:1\n",
      "Pred:0.8600000000000001\n",
      "Error:0.01959999999999997\n",
      "Delta:-0.1399999999999999\n",
      "Weights:[0.1, 0.2, -0.1]\n",
      "Weight_Deltas:\n",
      "[0, -0.09099999999999994, -0.16799999999999987]\n",
      "\n",
      "Iteration:2\n",
      "Pred:0.8626075000000001\n",
      "Error:0.018876699056249977\n",
      "Delta:-0.13739249999999992\n",
      "Weights:[0.1, 0.20091, -0.09832]\n",
      "Weight_Deltas:\n",
      "[0, -0.08930512499999994, -0.1648709999999999]\n",
      "\n",
      "Iteration:3\n",
      "Pred:0.8651664353125001\n",
      "Error:0.018180090166338207\n",
      "Delta:-0.13483356468749985\n",
      "Weights:[0.1, 0.20180305125, -0.09667129]\n",
      "Weight_Deltas:\n",
      "[0, -0.0876418170468749, -0.16180027762499982]\n",
      "\n"
     ]
    }
   ],
   "source": [
    "for iter in range(3):\n",
    "    pred = neural_network(input,weights)\n",
    "    error = (pred - true) ** 2 \n",
    "    delta = pred - true\n",
    "    weight_deltas=ele_mul(delta,input)\n",
    "    weight_deltas[0] = 0\n",
    "    print (\"Iteration:\" + str(iter+1) )\n",
    "    print (\"Pred:\" + str(pred) )\n",
    "    print (\"Error:\" + str(error) ) \n",
    "    print (\"Delta:\" + str(delta) )\n",
    "    print (\"Weights:\" + str(weights) )\n",
    "    print (\"Weight_Deltas:\" )\n",
    "    print (str(weight_deltas) )\n",
    "    print ()\n",
    "\n",
    "    for i in range(len(weights)):\n",
    "        weights[i] -= alpha * weight_deltas[i]\n",
    "  "
   ]
  }
 ],
 "metadata": {
  "kernelspec": {
   "display_name": "Python 3",
   "language": "python",
   "name": "python3"
  },
  "language_info": {
   "codemirror_mode": {
    "name": "ipython",
    "version": 3
   },
   "file_extension": ".py",
   "mimetype": "text/x-python",
   "name": "python",
   "nbconvert_exporter": "python",
   "pygments_lexer": "ipython3",
   "version": "3.6.3"
  }
 },
 "nbformat": 4,
 "nbformat_minor": 2
}
