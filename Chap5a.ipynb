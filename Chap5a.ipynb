{
 "cells": [
  {
   "cell_type": "markdown",
   "metadata": {},
   "source": [
    "*Gradient Descent Learning with Multiple Inputs*"
   ]
  },
  {
   "cell_type": "code",
   "execution_count": 1,
   "metadata": {},
   "outputs": [],
   "source": [
    "def w_sum(a,b):\n",
    "    assert(len(a) == len(b))\n",
    "    \n",
    "    output = 0\n",
    "\n",
    "    for i in range(len(a)):\n",
    "        output += (a[i] * b[i])\n",
    "    \n",
    "    return output\n",
    "\n",
    "def ele_mul(number,vector):\n",
    "    output = [0,0,0]\n",
    "    \n",
    "    assert(len(output) == len(vector))\n",
    "\n",
    "    for i in range(len(vector)): \n",
    "        output[i] = number * vector[i]\n",
    "   \n",
    "    return output\n"
   ]
  },
  {
   "cell_type": "code",
   "execution_count": 2,
   "metadata": {},
   "outputs": [],
   "source": [
    "weights = [0.1, 0.2, -.1]\n",
    "\n",
    "def neural_network(input, weights):\n",
    "    pred = w_sum(input,weights) \n",
    "    \n",
    "    return pred"
   ]
  },
  {
   "cell_type": "code",
   "execution_count": 3,
   "metadata": {},
   "outputs": [
    {
     "name": "stdout",
     "output_type": "stream",
     "text": [
      "[0.10009000000000001, 0.20009000000000002, -0.09991]\n"
     ]
    }
   ],
   "source": [
    "toes = [8.5, 9.5, 9.9, 9.0] \n",
    "wlrec = [0.9, 0.8, 0.8, 0.9] \n",
    "nfans = [1.2, 1.3, 0.5, 1.0]\n",
    "\n",
    "win_or_lose_binary = [1, 1, 0, 1] \n",
    "\n",
    "true = win_or_lose_binary[0]\n",
    "\n",
    "# input corresponds to every entry \n",
    "# for the first game of the season\n",
    "input = [toes[0],wlrec[0],nfans[0]] \n",
    "\n",
    "pred = neural_network(input, weights) \n",
    "error = (pred - true) ** 2\n",
    "delta = pred - true\n",
    "weight_deltas = ele_mul(delta, weights)\n",
    "alpha = 0.01\n",
    "\n",
    "for i in range(len(weights)):\n",
    "    weights[i] -= alpha * weight_deltas[0]\n",
    "    \n"
   ]
  },
  {
   "cell_type": "code",
   "execution_count": 11,
   "metadata": {},
   "outputs": [
    {
     "name": "stdout",
     "output_type": "stream",
     "text": [
      "Pred: 0.91\n",
      "Pure error: 0.008099999999999994\n",
      "Delta or how much our pred is wrong: -0.08999999999999997\n",
      "Weight_deltas or how much to change weights: [-0.008999999999999998, -0.017999999999999995, 0.008999999999999998]\n",
      "New adjusted weights: [0.10009000000000001, 0.20009000000000002, -0.09991]\n"
     ]
    }
   ],
   "source": [
    "print(\"Pred: \" + str(pred))\n",
    "print(\"Pure error: \" + str(error))\n",
    "print(\"Delta or how much our pred is wrong: \" + str(delta))\n",
    "print(\"Weight_deltas or how much to change weights: \" + str(weight_deltas))\n",
    "print(\"New adjusted weights: \" + str(weights) )"
   ]
  },
  {
   "cell_type": "code",
   "execution_count": null,
   "metadata": {},
   "outputs": [],
   "source": []
  }
 ],
 "metadata": {
  "kernelspec": {
   "display_name": "Python 3",
   "language": "python",
   "name": "python3"
  },
  "language_info": {
   "codemirror_mode": {
    "name": "ipython",
    "version": 3
   },
   "file_extension": ".py",
   "mimetype": "text/x-python",
   "name": "python",
   "nbconvert_exporter": "python",
   "pygments_lexer": "ipython3",
   "version": "3.6.3"
  }
 },
 "nbformat": 4,
 "nbformat_minor": 2
}
