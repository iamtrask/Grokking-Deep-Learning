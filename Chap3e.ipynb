{
 "cells": [
  {
   "cell_type": "markdown",
   "metadata": {},
   "source": [
    "Neural networks can predict multiple outputs given multiple inputs."
   ]
  },
  {
   "cell_type": "code",
   "execution_count": 1,
   "metadata": {},
   "outputs": [],
   "source": [
    "weights = [ [0.1, 0.1, -0.3],#hurt?\n",
    "            [0.1, 0.2, 0.0], #win? \n",
    "            [0.0, 1.3, 0.1] ]#sad?\n",
    "\n",
    "def neural_network(inputs, weights): \n",
    "    pred = vect_mat_mul(inputs, weights) \n",
    "    return pred\n",
    "\n",
    "\n",
    "def vect_mat_mul(vect, matrix): \n",
    "    assert(len(vect) == len(matrix)) \n",
    "    \n",
    "    #output = vector_of_zeros(len(vect))\n",
    "    \n",
    "    output = [0.0, 0.0, 0.0, 0.0]\n",
    "    \n",
    "    for i in range(len(vect)):\n",
    "        output[i]=w_sum(vect,matrix[i])\n",
    "\n",
    "    return output\n",
    "\n",
    "\n",
    "def w_sum(a, b):\n",
    "    assert(len(a) == len(b))\n",
    "    \n",
    "    output = 0\n",
    "\n",
    "    for i in range(len(a)):\n",
    "        output += (a[i] * b[i])\n",
    "        \n",
    "    return output"
   ]
  },
  {
   "cell_type": "code",
   "execution_count": 2,
   "metadata": {},
   "outputs": [
    {
     "name": "stdout",
     "output_type": "stream",
     "text": [
      "[0.555, 0.9800000000000001, 0.9650000000000001, 0.0]\n"
     ]
    }
   ],
   "source": [
    "toes = [8.5, 9.5, 9.9, 9.0] \n",
    "wlrec = [0.65, 0.8, 0.8, 0.9] \n",
    "nfans = [1.2, 1.3, 0.5, 1.0]\n",
    "\n",
    "# input corresponds to every entry \n",
    "# for the  rst game of the season\n",
    "inputs = [toes[0], wlrec[0], nfans[0]] \n",
    "pred = neural_network(inputs, weights)\n",
    "\n",
    "print(pred)"
   ]
  }
 ],
 "metadata": {
  "kernelspec": {
   "display_name": "Python 3",
   "language": "python",
   "name": "python3"
  },
  "language_info": {
   "codemirror_mode": {
    "name": "ipython",
    "version": 3
   },
   "file_extension": ".py",
   "mimetype": "text/x-python",
   "name": "python",
   "nbconvert_exporter": "python",
   "pygments_lexer": "ipython3",
   "version": "3.6.3"
  }
 },
 "nbformat": 4,
 "nbformat_minor": 2
}
