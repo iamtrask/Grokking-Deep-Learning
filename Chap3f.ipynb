{
 "cells": [
  {
   "cell_type": "code",
   "execution_count": 1,
   "metadata": {},
   "outputs": [],
   "source": [
    "import numpy as np"
   ]
  },
  {
   "cell_type": "code",
   "execution_count": 2,
   "metadata": {},
   "outputs": [],
   "source": [
    "#toes %win #fans\n",
    "ih_wgt = np.array([\n",
    "            [0.1, 0.2, -0.1],\n",
    "            [-0.1,0.1,0.9],\n",
    "            [0.1, 0.4, 0.1]])\n"
   ]
  },
  {
   "cell_type": "code",
   "execution_count": 3,
   "metadata": {},
   "outputs": [
    {
     "name": "stdout",
     "output_type": "stream",
     "text": [
      "[ 0.496  1.256 -0.286]\n"
     ]
    }
   ],
   "source": [
    "hp_wgt = np.array([\n",
    "    [0.3,1.1,-0.3],\n",
    "    [0.1,0.2,0.0],\n",
    "    [0.0, 1.3, 0.1]\n",
    "    ])\n",
    "\n",
    "weights = [ih_wgt, hp_wgt]\n",
    "\n",
    "def neural_network(input, weights):\n",
    "    hid = input.dot(weights[0]) \n",
    "    pred = hid.dot(weights[1]) \n",
    "    return pred\n",
    "\n",
    "toes = np.array([8.5, 9.5, 9.9, 9.0]) \n",
    "wlrec = np.array([0.65,0.8, 0.8, 0.9]) \n",
    "nfans = np.array([1.2, 1.3, 0.5, 1.0])\n",
    "\n",
    "input = np.array([toes[0],wlrec[0],nfans[0]])\n",
    "\n",
    "pred = neural_network(input,weights) \n",
    "\n",
    "print(pred)"
   ]
  },
  {
   "cell_type": "code",
   "execution_count": null,
   "metadata": {},
   "outputs": [],
   "source": []
  }
 ],
 "metadata": {
  "kernelspec": {
   "display_name": "Python 3",
   "language": "python",
   "name": "python3"
  },
  "language_info": {
   "codemirror_mode": {
    "name": "ipython",
    "version": 3
   },
   "file_extension": ".py",
   "mimetype": "text/x-python",
   "name": "python",
   "nbconvert_exporter": "python",
   "pygments_lexer": "ipython3",
   "version": "3.6.3"
  }
 },
 "nbformat": 4,
 "nbformat_minor": 2
}
